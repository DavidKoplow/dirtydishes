{
 "cells": [
  {
   "cell_type": "code",
   "execution_count": null,
   "metadata": {},
   "outputs": [],
   "source": []
  },
  {
   "cell_type": "code",
   "execution_count": 6,
   "metadata": {},
   "outputs": [
    {
     "name": "stdout",
     "output_type": "stream",
     "text": [
      "Downloading https://github.com/ultralytics/assets/releases/download/v8.1.0/yolov8l.pt to 'yolov8l.pt'...\n"
     ]
    },
    {
     "name": "stderr",
     "output_type": "stream",
     "text": [
      "100%|██████████| 83.7M/83.7M [00:03<00:00, 27.4MB/s]\n"
     ]
    }
   ],
   "source": [
    "import cv2\n",
    "import numpy as np\n",
    "from ultralytics import YOLO\n",
    "\n",
    "from ultralytics.utils.checks import check_imshow\n",
    "from ultralytics.utils.plotting import Annotator, colors\n",
    "\n",
    "from collections import defaultdict\n",
    "\n",
    "track_history = defaultdict(lambda: [])\n",
    "model = YOLO(\"yolov8l.pt\")\n",
    "names = model.model.names\n",
    "#41: 'cup', 45: 'bowl'\n",
    "\n",
    "video_path = \"C:\\\\Users\\\\dkopl\\\\Downloads\\\\lower_res_full_video_sq.mp4\"\n",
    "cap = cv2.VideoCapture(video_path)\n",
    "assert cap.isOpened(), \"Error reading video file\"\n",
    "\n",
    "w, h, fps = (int(cap.get(x)) for x in (cv2.CAP_PROP_FRAME_WIDTH, cv2.CAP_PROP_FRAME_HEIGHT, cv2.CAP_PROP_FPS))\n",
    "\n",
    "result = cv2.VideoWriter(\"object_tracking5.avi\",\n",
    "                       cv2.VideoWriter_fourcc(*'mp4v'),\n",
    "                       fps,\n",
    "                       (w, h))\n",
    "brightness_increase = 50\n",
    "\n",
    "while cap.isOpened():\n",
    "    success, frame = cap.read()\n",
    "\n",
    "\n",
    "    if success:\n",
    "\n",
    "        results = model.track(frame, persist=True, verbose=False, imgsz=640, classes=[41,45],iou=0.3, conf=0.001)\n",
    "        boxes = results[0].boxes.xyxy.cpu()\n",
    "\n",
    "        if results[0].boxes.id is not None:\n",
    "\n",
    "            # Extract prediction results\n",
    "            clss = results[0].boxes.cls.cpu().tolist()\n",
    "            track_ids = results[0].boxes.id.int().cpu().tolist()\n",
    "            confs = results[0].boxes.conf.float().cpu().tolist()\n",
    "\n",
    "            # Annotator Init\n",
    "            annotator = Annotator(frame, line_width=2)\n",
    "\n",
    "            for box, cls, track_id in zip(boxes, clss, track_ids):\n",
    "                annotator.box_label(box, color=colors(int(cls), True), label=names[int(cls)])\n",
    "\n",
    "                # Store tracking history\n",
    "                track = track_history[track_id]\n",
    "                track.append((int((box[0] + box[2]) / 2), int((box[1] + box[3]) / 2)))\n",
    "                if len(track) > 30:\n",
    "                    track.pop(0)\n",
    "\n",
    "                # Plot tracks\n",
    "                points = np.array(track, dtype=np.int32).reshape((-1, 1, 2))\n",
    "                cv2.circle(frame, (track[-1]), 7, colors(int(cls), True), -1)\n",
    "                cv2.polylines(frame, [points], isClosed=False, color=colors(int(cls), True), thickness=2)\n",
    "\n",
    "        result.write(frame)\n",
    "        if cv2.waitKey(1) & 0xFF == ord(\"q\"):\n",
    "            break\n",
    "    else:\n",
    "        break\n",
    "\n",
    "result.release()\n",
    "cap.release()\n",
    "cv2.destroyAllWindows()"
   ]
  },
  {
   "cell_type": "code",
   "execution_count": null,
   "metadata": {},
   "outputs": [],
   "source": []
  },
  {
   "cell_type": "code",
   "execution_count": null,
   "metadata": {},
   "outputs": [],
   "source": []
  }
 ],
 "metadata": {
  "kernelspec": {
   "display_name": ".venv",
   "language": "python",
   "name": "python3"
  },
  "language_info": {
   "codemirror_mode": {
    "name": "ipython",
    "version": 3
   },
   "file_extension": ".py",
   "mimetype": "text/x-python",
   "name": "python",
   "nbconvert_exporter": "python",
   "pygments_lexer": "ipython3",
   "version": "3.10.5"
  }
 },
 "nbformat": 4,
 "nbformat_minor": 2
}
