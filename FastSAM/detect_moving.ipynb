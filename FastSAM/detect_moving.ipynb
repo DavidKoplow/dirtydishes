{
 "cells": [
  {
   "cell_type": "code",
   "execution_count": null,
   "metadata": {},
   "outputs": [],
   "source": []
  },
  {
   "cell_type": "code",
   "execution_count": 7,
   "metadata": {},
   "outputs": [],
   "source": [
    "\n",
    "class args_init:\n",
    "    def __init__(self):\n",
    "        self.model_path = \"./FastSAM.pt\"\n",
    "        self.img_path = \"./images/imageForSegmentation.png\"\n",
    "        self.imgsz = 1024\n",
    "        self.iou = 0.9\n",
    "        self.text_prompt = None\n",
    "\n",
    "        self.conf = 0.4\n",
    "        self.output = \"./output/\"\n",
    "        self.point_prompt=\"[[0,0]]\"\n",
    "\n",
    "        self.randomcolor = True\n",
    "\n",
    "\n",
    "        self.point_label = \"[0]\"\n",
    "        self.box_prompt = \"[[0,0,0,0]]\"\n",
    "        self.better_quality = False\n",
    "        self.device = torch.device(\n",
    "            \"cuda\"\n",
    "            if torch.cuda.is_available()\n",
    "            else \"mps\"\n",
    "            if torch.backends.mps.is_available()\n",
    "            else \"cpu\"\n",
    "        )\n",
    "        self.retina = True\n",
    "        self.withContours = False\n",
    "\n",
    "args = args_init()"
   ]
  },
  {
   "cell_type": "code",
   "execution_count": 8,
   "metadata": {},
   "outputs": [
    {
     "data": {
      "text/plain": [
       "'./FastSAM.pt'"
      ]
     },
     "execution_count": 8,
     "metadata": {},
     "output_type": "execute_result"
    }
   ],
   "source": [
    "args.model_path"
   ]
  },
  {
   "cell_type": "code",
   "execution_count": 9,
   "metadata": {},
   "outputs": [
    {
     "name": "stderr",
     "output_type": "stream",
     "text": [
      "\n",
      "0: 768x1024 79 objects, 230.5ms\n",
      "Speed: 4.4ms preprocess, 230.5ms inference, 254.8ms postprocess per image at shape (1, 3, 1024, 1024)\n"
     ]
    }
   ],
   "source": [
    "# load model\n",
    "model = FastSAM(args.model_path)\n",
    "args.point_prompt = ast.literal_eval(args.point_prompt)\n",
    "args.box_prompt = convert_box_xywh_to_xyxy(ast.literal_eval(args.box_prompt))\n",
    "args.point_label = ast.literal_eval(args.point_label)\n",
    "input = Image.open(args.img_path)\n",
    "input = input.convert(\"RGB\")\n",
    "everything_results = model(\n",
    "    input,\n",
    "    device=args.device,\n",
    "    retina_masks=args.retina,\n",
    "    imgsz=args.imgsz,\n",
    "    conf=args.conf,\n",
    "    iou=args.iou    \n",
    "    )\n",
    "bboxes = None\n",
    "points = None\n",
    "point_label = None\n",
    "prompt_process = FastSAMPrompt(input, everything_results, device=args.device)\n",
    "if args.box_prompt[0][2] != 0 and args.box_prompt[0][3] != 0:\n",
    "        ann = prompt_process.box_prompt(bboxes=args.box_prompt)\n",
    "        bboxes = args.box_prompt\n",
    "elif args.text_prompt != None:\n",
    "    ann = prompt_process.text_prompt(text=args.text_prompt)\n",
    "elif args.point_prompt[0] != [0, 0]:\n",
    "    ann = prompt_process.point_prompt(\n",
    "        points=args.point_prompt, pointlabel=args.point_label\n",
    "    )\n",
    "    points = args.point_prompt\n",
    "    point_label = args.point_label\n",
    "else:\n",
    "    ann = prompt_process.everything_prompt()\n",
    "prompt_process.plot(\n",
    "    annotations=ann,\n",
    "    output_path=args.output+args.img_path.split(\"/\")[-1],\n",
    "    bboxes = bboxes,\n",
    "    points = points,\n",
    "    point_label = point_label,\n",
    "    withContours=args.withContours,\n",
    "    better_quality=args.better_quality,\n",
    ")\n",
    "\n"
   ]
  },
  {
   "cell_type": "code",
   "execution_count": 10,
   "metadata": {},
   "outputs": [
    {
     "data": {
      "text/plain": [
       "<fastsam.prompt.FastSAMPrompt at 0x2666572a530>"
      ]
     },
     "execution_count": 10,
     "metadata": {},
     "output_type": "execute_result"
    }
   ],
   "source": [
    "prompt_process"
   ]
  },
  {
   "cell_type": "code",
   "execution_count": 13,
   "metadata": {},
   "outputs": [],
   "source": [
    "from PIL import Image\n",
    "def sm(im):\n",
    "    Image.fromarray(im).show()"
   ]
  },
  {
   "cell_type": "code",
   "execution_count": 14,
   "metadata": {},
   "outputs": [],
   "source": [
    "sm(prompt_process.plot_to_result(\n",
    "        ann, \n",
    "        bboxes, \n",
    "        points, \n",
    "        point_label, \n",
    "        True,\n",
    "        args.better_quality, \n",
    "        args.retina, \n",
    "        args.withContours,\n",
    "    ))\n",
    "\n"
   ]
  },
  {
   "cell_type": "code",
   "execution_count": null,
   "metadata": {},
   "outputs": [],
   "source": []
  }
 ],
 "metadata": {
  "kernelspec": {
   "display_name": ".venv",
   "language": "python",
   "name": "python3"
  },
  "language_info": {
   "codemirror_mode": {
    "name": "ipython",
    "version": 3
   },
   "file_extension": ".py",
   "mimetype": "text/x-python",
   "name": "python",
   "nbconvert_exporter": "python",
   "pygments_lexer": "ipython3",
   "version": "3.10.5"
  }
 },
 "nbformat": 4,
 "nbformat_minor": 2
}
